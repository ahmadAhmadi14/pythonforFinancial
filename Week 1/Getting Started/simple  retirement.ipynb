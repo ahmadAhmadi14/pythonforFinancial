{
 "cells": [
  {
   "cell_type": "markdown",
   "id": "6cbb8fb5-93ab-4d02-a88a-ac5fcd475b8f",
   "metadata": {},
   "source": [
    "# Inputs \n",
    "\n",
    "The inputs are defined here"
   ]
  },
  {
   "cell_type": "code",
   "execution_count": 34,
   "id": "6d2471bc-4ba4-49a8-8579-02e37af87f3d",
   "metadata": {},
   "outputs": [],
   "source": [
    "salary = 60000\n",
    "savings_rate = 0.25\n",
    "investment_rate = 0.05\n",
    "desired_cash = 1500000"
   ]
  },
  {
   "cell_type": "markdown",
   "id": "ff2419aa-40d3-4f99-8e9a-627b74283bdc",
   "metadata": {},
   "source": [
    "# Determining Cash Saved"
   ]
  },
  {
   "cell_type": "code",
   "execution_count": 13,
   "id": "f8c66214-009f-4ca6-8866-34c1587e75ce",
   "metadata": {},
   "outputs": [
    {
     "data": {
      "text/plain": [
       "15000.0"
      ]
     },
     "execution_count": 13,
     "metadata": {},
     "output_type": "execute_result"
    }
   ],
   "source": [
    "annual_cash = salary * savings_rate\n",
    "annual_cash"
   ]
  },
  {
   "cell_type": "markdown",
   "id": "44fb7fe0-dc80-498b-afee-e4da8d76f123",
   "metadata": {},
   "source": [
    "# Years to Retirement"
   ]
  },
  {
   "cell_type": "code",
   "execution_count": 30,
   "id": "92e48750-7b1b-4045-b542-a535bcdb30a0",
   "metadata": {},
   "outputs": [
    {
     "name": "stdout",
     "output_type": "stream",
     "text": [
      "Collecting numpy-financial\n",
      "  Downloading numpy_financial-1.0.0-py3-none-any.whl (14 kB)\n",
      "Requirement already satisfied: numpy>=1.15 in ./opt/anaconda3/lib/python3.8/site-packages (from numpy-financial) (1.20.1)\n",
      "Installing collected packages: numpy-financial\n",
      "Successfully installed numpy-financial-1.0.0\n",
      "Note: you may need to restart the kernel to use updated packages.\n"
     ]
    }
   ],
   "source": [
    "pip install numpy-financial"
   ]
  },
  {
   "cell_type": "code",
   "execution_count": 36,
   "id": "a429f60e-e0cc-40bc-bf02-73db7be1474c",
   "metadata": {},
   "outputs": [],
   "source": [
    "import numpy_financial as npf"
   ]
  },
  {
   "cell_type": "code",
   "execution_count": 50,
   "id": "a82870f2-a16a-451e-83e8-1ef52813c658",
   "metadata": {},
   "outputs": [],
   "source": [
    "years_to_retirement = npf.nper(investment_rate, -annual_cash, 0, desired_cash)"
   ]
  },
  {
   "cell_type": "code",
   "execution_count": 51,
   "id": "38f775b0-01be-4758-97ba-e35d0aeefb6d",
   "metadata": {},
   "outputs": [
    {
     "data": {
      "text/plain": [
       "array(36.72378439)"
      ]
     },
     "execution_count": 51,
     "metadata": {},
     "output_type": "execute_result"
    }
   ],
   "source": [
    "years_to_retirement"
   ]
  },
  {
   "cell_type": "code",
   "execution_count": 55,
   "id": "3e4005be-8695-49ad-8abd-de0d9aabe293",
   "metadata": {},
   "outputs": [
    {
     "name": "stdout",
     "output_type": "stream",
     "text": [
      "Martha has 36.7 years to retirement\n"
     ]
    }
   ],
   "source": [
    "print(f'Martha has {years_to_retirement:.1f} years to retirement')"
   ]
  },
  {
   "cell_type": "code",
   "execution_count": null,
   "id": "4204bc69-6934-4eb3-a26b-9bc3d7cf496e",
   "metadata": {},
   "outputs": [],
   "source": []
  },
  {
   "cell_type": "code",
   "execution_count": null,
   "id": "cdb3374f-08b4-4201-a3c9-1e3f95568f22",
   "metadata": {},
   "outputs": [],
   "source": []
  }
 ],
 "metadata": {
  "kernelspec": {
   "display_name": "Python 3",
   "language": "python",
   "name": "python3"
  },
  "language_info": {
   "codemirror_mode": {
    "name": "ipython",
    "version": 3
   },
   "file_extension": ".py",
   "mimetype": "text/x-python",
   "name": "python",
   "nbconvert_exporter": "python",
   "pygments_lexer": "ipython3",
   "version": "3.8.8"
  }
 },
 "nbformat": 4,
 "nbformat_minor": 5
}
